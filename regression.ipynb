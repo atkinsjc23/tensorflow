{
 "cells": [
  {
   "cell_type": "code",
   "execution_count": 1,
   "metadata": {},
   "outputs": [],
   "source": [
    "import numpy as np\n",
    "import matplotlib.pyplot as plt\n",
    "import seaborn as sn\n",
    "import tensorflow as tf"
   ]
  },
  {
   "cell_type": "code",
   "execution_count": 2,
   "metadata": {},
   "outputs": [],
   "source": [
    "total_points = 200\n",
    "x_data = np.linspace(0,50,total_points)\n",
    "y_data = np.array([.5*x + 20*np.sin((np.pi*x)/50) for x in range(total_points)])"
   ]
  },
  {
   "cell_type": "code",
   "execution_count": 3,
   "metadata": {
    "scrolled": false
   },
   "outputs": [
    {
     "data": {
      "image/png": "[encoded data removed]",
      "text/plain": [
       "<matplotlib.figure.Figure at 0x7f577dbc4c88>"
      ]
     },
     "metadata": {
      "needs_background": "light"
     },
     "output_type": "display_data"
    }
   ],
   "source": [
    "plt.figure(figsize=(10,12))\n",
    "plt.plot(x_data,y_data,'-')\n",
    "plt.show()"
   ]
  },
  {
   "cell_type": "code",
   "execution_count": 4,
   "metadata": {},
   "outputs": [
    {
     "name": "stdout",
     "output_type": "stream",
     "text": [
      "WARNING:tensorflow:From /home/cameron/.local/lib/python3.6/site-packages/tensorflow/python/framework/op_def_library.py:263: colocate_with (from tensorflow.python.framework.ops) is deprecated and will be removed in a future version.\n",
      "Instructions for updating:\n",
      "Colocations handled automatically by placer.\n",
      "WARNING:tensorflow:From /home/cameron/.local/lib/python3.6/site-packages/tensorflow/python/ops/math_ops.py:3066: to_int32 (from tensorflow.python.ops.math_ops) is deprecated and will be removed in a future version.\n",
      "Instructions for updating:\n",
      "Use tf.cast instead.\n"
     ]
    }
   ],
   "source": [
    "learning_rate = .0001\n",
    "epochs = 1000\n",
    "\n",
    "tf.reset_default_graph()\n",
    "\n",
    "x = tf.placeholder(tf.float32)\n",
    "y = tf.placeholder(tf.float32)\n",
    "\n",
    "m = tf.Variable(2.)\n",
    "b = tf.Variable(10.)\n",
    "\n",
    "pred = tf.add(tf.multiply(x,m),b)\n",
    "loss = tf.reduce_sum(tf.pow(tf.subtract(pred,y),2))\n",
    "optimizer = tf.train.RMSPropOptimizer(learning_rate=learning_rate).minimize(loss)\n",
    "\n",
    "slope_pred = []\n",
    "bias_pred = []\n",
    "cost_log = []\n",
    "\n",
    "init = tf.global_variables_initializer()\n",
    "\n",
    "with tf.Session() as sess:\n",
    "    sess.run(init)\n",
    "    for e in range(epochs):\n",
    "        perm = np.random.permutation(len(x_data))\n",
    "        x_data = x_data[perm]\n",
    "        y_data = y_data[perm]\n",
    "        for _x,_y in zip(x_data,y_data):\n",
    "            sess.run(optimizer, feed_dict={x:_x,y:_y})\n",
    "            learning_rate = learning_rate/10\n",
    "        cost_value = sess.run(loss, feed_dict={x:x_data,y:y_data})\n",
    "        cost_log.append(cost_value)\n",
    "        bias_pred.append(sess.run(b))\n",
    "        slope_pred.append(sess.run(m))"
   ]
  },
  {
   "cell_type": "code",
   "execution_count": null,
   "metadata": {
    "scrolled": false
   },
   "outputs": [],
   "source": [
    "# Visualize convergence\n",
    "plt.figure(figsize=(10,10))\n",
    "plt.plot([i for i in range(epochs)],cost_log,'o')\n",
    "plt.xlabel('Epochs')\n",
    "plt.ylabel('Cost')\n",
    "plt.title('Visualize Cost function converging')\n",
    "plt.show()\n",
    "\n",
    "lop_off = 10\n",
    "plt.figure(figsize=(10,10))\n",
    "plt.plot([i for i in range(epochs-lop_off)],cost_log[lop_off:],'o')\n",
    "plt.xlabel('Epochs')\n",
    "plt.ylabel('Cost')\n",
    "plt.title('Visualize Cost function converging \\n Removed first {} points.'.format(lop_off))\n",
    "plt.show()\n",
    "\n",
    "plt.figure(figsize=(10,10))\n",
    "plt.plot([i for i in range(epochs)],slope_pred,'o')\n",
    "plt.xlabel('Epochs')\n",
    "plt.ylabel('Slope')\n",
    "plt.title('Visualize the value of slope converging')\n",
    "plt.show()\n",
    "\n",
    "plt.figure(figsize=(10,10))\n",
    "plt.plot([i for i in range(epochs)],slope_pred,'o')\n",
    "plt.xlabel('Epochs')\n",
    "plt.ylabel('bias')\n",
    "plt.title('Visualize the value of the bias converging')\n",
    "plt.show()\n"
   ]
  },
  {
   "cell_type": "code",
   "execution_count": null,
   "metadata": {
    "scrolled": false
   },
   "outputs": [],
   "source": [
    "# Plot Regression Line\n",
    "slope_value = slope_pred[-1]\n",
    "bias_value = bias_pred[-1]\n",
    "# The one fifth scalar due to the fact that x_data is in one fifth increments\n",
    "linear = np.linspace(0,50,total_points)\n",
    "reg_line = [slope_value*(x/5)+bias_value for x in range(total_points)]\n",
    "\n",
    "plt.figure(figsize=(10,10))\n",
    "plt.plot(x_data,y_data,'o')\n",
    "plt.plot(linear,reg_line)\n",
    "plt.title(\"Regression\")\n",
    "plt.show()"
   ]
  },
  {
   "cell_type": "code",
   "execution_count": null,
   "metadata": {
    "scrolled": false
   },
   "outputs": [],
   "source": [
    "print('Bias is {} and slope is {}.'.format(bias_pred[-1],slope_pred[-1]))"
   ]
  },
  {
   "cell_type": "code",
   "execution_count": null,
   "metadata": {},
   "outputs": [],
   "source": [
    "from sklearn.linear_model import LinearRegression"
   ]
  },
  {
   "cell_type": "code",
   "execution_count": null,
   "metadata": {},
   "outputs": [],
   "source": [
    "model = LinearRegression()\n",
    "model.fit([x_data],[y_data])\n",
    "x_data = np.sort(x_data)\n",
    "pred = model.predict([x_data])\n",
    "pred = pred.reshape(200,)\n",
    "pred = np.sort(pred)"
   ]
  },
  {
   "cell_type": "code",
   "execution_count": null,
   "metadata": {},
   "outputs": [],
   "source": [
    "plt.figure(figsize=(10,10))\n",
    "plt.plot(x_data,y_data)\n",
    "plt.plot(x_data.reshape(200,),pred.reshape(200,))"
   ]
  },
  {
   "cell_type": "code",
   "execution_count": null,
   "metadata": {},
   "outputs": [],
   "source": []
  }
 ],
 "metadata": {
  "kernelspec": {
   "display_name": "Python 3",
   "language": "python",
   "name": "python3"
  },
  "language_info": {
   "codemirror_mode": {
    "name": "ipython",
    "version": 3
   },
   "file_extension": ".py",
   "mimetype": "text/x-python",
   "name": "python",
   "nbconvert_exporter": "python",
   "pygments_lexer": "ipython3",
   "version": "3.6.7"
  }
 },
 "nbformat": 4,
 "nbformat_minor": 2
}
